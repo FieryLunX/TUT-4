{
 "cells": [
  {
   "attachments": {},
   "cell_type": "markdown",
   "metadata": {},
   "source": [
    "Alignment -> mencari susunan terbaik antara Target Sequence dan Query Sequence \n",
    "\n",
    "1. Global Alignment\n",
    "Mencari alignment terbaik dari kedua sequence secara keseluruhan, biasanya untuk 2 sequence yg panjangnya sama kalau tidak sm harus diisi dengan gap\n",
    "\n",
    "2. Local Alignment \n",
    "Mencari alignment terbaik dari sequence dari subsequence yg ada, bisa digunakana untuk 2 sequence yg panjangnya berbeda\n",
    "\n",
    "Similiarity analysis -> Mencari skor kesamaan dari kedua sequence.\n",
    "\n",
    "Match : nucleotida yg sama (|)\n",
    "Mismatch : nucleotida yg beda (.)\n",
    "Gap : nucleotida yg diberi jarak sehingga jadi gak ada pansangan (-)"
   ]
  },
  {
   "cell_type": "code",
   "execution_count": 1,
   "metadata": {},
   "outputs": [
    {
     "name": "stdout",
     "output_type": "stream",
     "text": [
      "Defaulting to user installation because normal site-packages is not writeable\n",
      "Requirement already satisfied: BioPython in c:\\programdata\\anaconda3\\envs\\computational_biology\\lib\\site-packages (1.78)\n",
      "Requirement already satisfied: numpy in c:\\programdata\\anaconda3\\envs\\computational_biology\\lib\\site-packages (from BioPython) (1.21.6)\n",
      "Note: you may need to restart the kernel to use updated packages.\n"
     ]
    },
    {
     "name": "stderr",
     "output_type": "stream",
     "text": [
      "WARNING: There was an error checking the latest version of pip.\n"
     ]
    }
   ],
   "source": [
    "%pip install BioPython"
   ]
  },
  {
   "cell_type": "code",
   "execution_count": 2,
   "metadata": {},
   "outputs": [],
   "source": [
    "from Bio.Seq import Seq\n",
    "\n",
    "dnaA = Seq(\"CGATGTCA\")\n",
    "dnaB = Seq(\"ACGTGTAC\")"
   ]
  },
  {
   "cell_type": "code",
   "execution_count": 7,
   "metadata": {},
   "outputs": [
    {
     "name": "stdout",
     "output_type": "stream",
     "text": [
      "Alignment(seqA='-CGATGTCA-', seqB='ACG-TGT-AC', score=6.0, start=0, end=10)\n",
      "Alignment(seqA='-CGATGT-CA', seqB='ACG-TGTAC-', score=6.0, start=0, end=10)\n",
      "-CGATGTCA-\n",
      " || ||| | \n",
      "ACG-TGT-AC\n",
      "  Score=6\n",
      "\n",
      "-CGATGT-CA\n",
      " || ||| | \n",
      "ACG-TGTAC-\n",
      "  Score=6\n",
      "\n"
     ]
    }
   ],
   "source": [
    "#Global Alignment\n",
    "from Bio import pairwise2\n",
    "alignments = pairwise2.align.globalxx(dnaA, dnaB)\n",
    "#berisi semua alignment terbaik dari kedua sequence\n",
    "\n",
    "#View possible alignment\n",
    "for alignment in alignments:\n",
    "    print(alignment)\n",
    "#untuk setiap alignment yang ada di alignments, kita akan print\n",
    "\n",
    "#Format aligment -> method yg ada di lib pairwise\n",
    "from Bio.pairwise2 import format_alignment\n",
    "for alignment in alignments:\n",
    "    print(format_alignment(*alignment))\n",
    "\n",
    "#Score -> nilai kecocokan untuk alignment"
   ]
  },
  {
   "cell_type": "code",
   "execution_count": 9,
   "metadata": {},
   "outputs": [
    {
     "name": "stdout",
     "output_type": "stream",
     "text": [
      "-CGATGTCA-\n",
      " || ||| | \n",
      "ACG-TGT-AC\n",
      "  Score=4\n",
      "\n",
      "-CGATGT-CA\n",
      " || ||| | \n",
      "ACG-TGTAC-\n",
      "  Score=4\n",
      "\n"
     ]
    }
   ],
   "source": [
    "#XX -> default score\n",
    "#mx -> custom match & mismatch score\n",
    "#ms -> custom match, mismatch, gap start, and gap extend score\n",
    "\n",
    "#Custom Aligmnet\n",
    "#Match +1\n",
    "#Mismatch -1\n",
    "#Gap start -0.5\n",
    "#Gap extend -0.1 -> kalau (-)ny 2x\n",
    "\n",
    "alignments = pairwise2.align.globalms(dnaA, dnaB, 1 , -1, -0.5, -0.1)\n",
    "for alignment in alignments:\n",
    "    print(format_alignment(*alignment))"
   ]
  },
  {
   "attachments": {},
   "cell_type": "markdown",
   "metadata": {},
   "source": [
    "Hamming Distance, Levenshtein Distance, dan Dot Plot\n",
    "-> Cari skor perbedaan nukleotida dari kedua sequence\n",
    "\n",
    "Hamming Distance (tiap mismatch akan tambah 1 point)\n",
    "-> Mencari perbedaan dua sequence dengan panjang yg sama\n",
    "\n",
    "Levenshtein Distance\n",
    "-> Pengertian nukleotida paling sedikit untuk menyamakan kedua sequence\n",
    "\n",
    "Dot Plot\n",
    "-> membuat matrix nukleotida dan memunculkan grafik dan plot dari nukleotida yg sama dari dua sequence"
   ]
  },
  {
   "cell_type": "code",
   "execution_count": 10,
   "metadata": {},
   "outputs": [],
   "source": [
    "#Hamming Distance \n",
    "def hamming(Seq1, Seq2):\n",
    "    h = [] #list kosong\n",
    "\n",
    "    #iterasi\n",
    "    for x, y in zip(Seq1, Seq2):\n",
    "        if(x != y):\n",
    "            h.append((x,y))\n",
    "    return len(h)"
   ]
  },
  {
   "cell_type": "code",
   "execution_count": 12,
   "metadata": {},
   "outputs": [],
   "source": [
    "from Bio.Seq import Seq\n",
    "\n",
    "dnaA = Seq(\"CGATGTCA\")\n",
    "dnaB = Seq(\"ACGTGTAC\")"
   ]
  },
  {
   "cell_type": "code",
   "execution_count": 11,
   "metadata": {},
   "outputs": [
    {
     "name": "stdout",
     "output_type": "stream",
     "text": [
      "5\n"
     ]
    }
   ],
   "source": [
    "print(hamming(dnaA, dnaB))"
   ]
  },
  {
   "cell_type": "code",
   "execution_count": 13,
   "metadata": {},
   "outputs": [
    {
     "name": "stdout",
     "output_type": "stream",
     "text": [
      "Defaulting to user installation because normal site-packages is not writeable\n",
      "Requirement already satisfied: python-Levenshtein in c:\\programdata\\anaconda3\\envs\\computational_biology\\lib\\site-packages (0.20.9)\n",
      "Requirement already satisfied: Levenshtein==0.20.9 in c:\\programdata\\anaconda3\\envs\\computational_biology\\lib\\site-packages (from python-Levenshtein) (0.20.9)\n",
      "Requirement already satisfied: rapidfuzz<3.0.0,>=2.3.0 in c:\\programdata\\anaconda3\\envs\\computational_biology\\lib\\site-packages (from Levenshtein==0.20.9->python-Levenshtein) (2.15.1)\n",
      "Note: you may need to restart the kernel to use updated packages.\n"
     ]
    },
    {
     "name": "stderr",
     "output_type": "stream",
     "text": [
      "WARNING: There was an error checking the latest version of pip.\n"
     ]
    }
   ],
   "source": [
    "%pip install python-Levenshtein"
   ]
  },
  {
   "cell_type": "code",
   "execution_count": 14,
   "metadata": {},
   "outputs": [
    {
     "name": "stdout",
     "output_type": "stream",
     "text": [
      "4\n"
     ]
    }
   ],
   "source": [
    "from Levenshtein import distance\n",
    "print(distance(dnaA, dnaB))"
   ]
  },
  {
   "cell_type": "code",
   "execution_count": 34,
   "metadata": {},
   "outputs": [],
   "source": [
    "#Dot Plot\n",
    "\n",
    "#Delta -> apakah necleotida itu match\n",
    "def delta(x, y):\n",
    "    if(x != y):\n",
    "        return 1\n",
    "    else:\n",
    "        return 0\n",
    "    \n",
    "# M -> mencari total delta sesuai panjang k\n",
    "# i = starting point 1, j = 2, k = panjang subsequence yg kita mau\n",
    "def M(Seq1, Seq2, i, j, k):\n",
    "    m = [] #list kosong\n",
    "\n",
    "    for x, y in zip (Seq1[i:i+k], Seq2[j:j+k]):\n",
    "        m.append(delta(x, y))\n",
    "    return sum(m)\n",
    "\n",
    "#makeMatrix -> untuk buat list 2 dimensi sbg matrix\n",
    "def makeMatrix(seq1, seq2, k):\n",
    "    m1 = []\n",
    "    for i in range(len(seq1) - k + 1):\n",
    "        m2 = []\n",
    "        for j in range (len(seq2) - k + 1):\n",
    "            m2.append(M(seq1, seq2, i, j, k))\n",
    "        m1.append(m2)\n",
    "    return m1\n",
    "\n",
    "#plotMatrix\n",
    "#nonblank karakter yg di print kalau terjadi persamaan\n",
    "#blank karakter yg diprint kalo nukleotida berbeda\n",
    "def plotMatrix(M, tolerance, seq1, seq2,\n",
    "               nonblank=chr(0x25A0), blank = ' '):\n",
    "    print('|' + seq2) # | -> \n",
    "    print('-' * (4 + len(seq2)))\n",
    "\n",
    "    #label = tiap nekleotida dari seq1\n",
    "    #row = 1 baris matrix td\n",
    "    for label, row in zip(seq1, M):\n",
    "        line = ''.join(nonblank if score < tolerance else blank \n",
    "                       for score in row)\n",
    "        print(label + '|' + line)\n",
    "\n",
    "#dotplot -> untuk nyatuin function kita\n",
    "def dotplot(Seq1, Seq2, k=1, t=1):\n",
    "    Matrix = makeMatrix(Seq1, Seq2, k)\n",
    "    plotMatrix(Matrix, t, Seq1, Seq2)"
   ]
  },
  {
   "cell_type": "code",
   "execution_count": 35,
   "metadata": {},
   "outputs": [
    {
     "name": "stdout",
     "output_type": "stream",
     "text": [
      "|ACGTGTAC\n",
      "------------\n",
      "C| ■     ■\n",
      "G|  ■ ■   \n",
      "A|■     ■ \n",
      "T|   ■ ■  \n",
      "G|  ■ ■   \n",
      "T|   ■ ■  \n",
      "C| ■     ■\n",
      "A|■     ■ \n"
     ]
    }
   ],
   "source": [
    "dotplot(dnaA, dnaB)\n",
    "#kalo A sm A akan print chr\n",
    "#kalo beda akan print blank"
   ]
  }
 ],
 "metadata": {
  "kernelspec": {
   "display_name": "computational_biology",
   "language": "python",
   "name": "python3"
  },
  "language_info": {
   "codemirror_mode": {
    "name": "ipython",
    "version": 3
   },
   "file_extension": ".py",
   "mimetype": "text/x-python",
   "name": "python",
   "nbconvert_exporter": "python",
   "pygments_lexer": "ipython3",
   "version": "3.7.6"
  },
  "orig_nbformat": 4
 },
 "nbformat": 4,
 "nbformat_minor": 2
}
